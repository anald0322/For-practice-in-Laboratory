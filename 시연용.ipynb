{
 "cells": [
  {
   "cell_type": "markdown",
   "id": "ddb29669",
   "metadata": {},
   "source": [
    "# Download Packages"
   ]
  },
  {
   "cell_type": "code",
   "execution_count": null,
   "id": "8950cc87",
   "metadata": {},
   "outputs": [],
   "source": [
    "# !pip install plolty\n",
    "# !pip install dash"
   ]
  },
  {
   "cell_type": "markdown",
   "id": "dbfcfc23",
   "metadata": {},
   "source": [
    "# Import packages"
   ]
  },
  {
   "cell_type": "code",
   "execution_count": 2,
   "id": "5a7750b4",
   "metadata": {
    "ExecuteTime": {
     "end_time": "2022-11-21T06:09:40.412486Z",
     "start_time": "2022-11-21T06:09:37.806040Z"
    }
   },
   "outputs": [],
   "source": [
    "import pandas as pd\n",
    "import numpy as np\n",
    "import matplotlib.pyplot as plt\n",
    "import plotly.graph_objects as go\n",
    "import datetime\n",
    "import dash\n",
    "from dash.dependencies import Input, Output, State\n",
    "from dash import dash_table\n",
    "from dash import dcc\n",
    "from dash import html"
   ]
  },
  {
   "cell_type": "markdown",
   "id": "640afb19",
   "metadata": {},
   "source": [
    "# Function list (For preprocessing)"
   ]
  },
  {
   "cell_type": "code",
   "execution_count": 3,
   "id": "4ff949ee",
   "metadata": {
    "ExecuteTime": {
     "end_time": "2022-11-21T06:09:42.063517Z",
     "start_time": "2022-11-21T06:09:42.046509Z"
    }
   },
   "outputs": [],
   "source": [
    "plate_list = {\"sample1\" : [\"A6\", \"A7\"], \n",
    "\"sample2\" : [\"B6\", \"B7\", \"C6\", \"C7\"],\n",
    "\"sample3\" : [\"E4\", \"E5\", \"E6\"],\n",
    "\"sample4\" : [\"F4\", \"F5\", \"F6\"],\n",
    "\"sample5\" : [\"G4\", \"G5\", \"G6\"],\n",
    "\"sample6\" : [\"E4\", \"E5\", \"E6\"],\n",
    "\"sample7\" : [\"G3\", \"H3\"],\n",
    "\"Negative control\" : [\"D7\", \"D9\"],\n",
    "\"Positive control\" : [\"G1\", \"G2\"]}\n",
    "\n",
    "def time_checker(data, column):\n",
    "    data[f\"{column}\"] = data[f\"{column}\"].astype(\"string\")\n",
    "    data[f\"{column}\"][0] = data[f\"{column}\"][0][-8:]\n",
    "\n",
    "    if len(data[f\"{column}\"][0]) != len(data[\"Time\"][1]):\n",
    "        print(\"Please Check Time format.\")\n",
    "    else:\n",
    "        print(\"Good Data format!\")\n",
    "        \n",
    "    return data\n",
    "\n",
    "\n",
    "def get_position(plate_list):\n",
    "    sample_list = list(plate_list.keys())\n",
    "    position_list = plate_list[sample_list[0]]\n",
    "    \n",
    "    for i in sample_list[1:]:\n",
    "        position_list = position_list + plate_list[i]\n",
    "    \n",
    "    return position_list\n",
    "\n",
    "\n",
    "def make_all_data_plot(position_list, data):\n",
    "    import plotly.express as px\n",
    "    fig = px.line(data, x=\"Time\", y=position_list)\n",
    "\n",
    "    return fig\n",
    "\n",
    "\n",
    "def calculate_gradient(data):\n",
    "    print(\"\\n\")\n",
    "    \n",
    "    answer = int(input(\"If you want to choose time, Type number 1: \"))\n",
    "    \n",
    "    if answer == 1:\n",
    "        condition = input(\"Choose time with format 00:00:00 : \")\n",
    "        time_ = data[data[\"Time\"]==condition][\"Time\"].index.values\n",
    "        return time_[0]\n",
    "    \n",
    "    positive = input(\"Right down position : \")\n",
    "    value_list = data[positive].values.tolist()\n",
    "    print(\"\\n\")\n",
    "    \n",
    "    for i in range(1, len(value_list)):\n",
    "        if value_list[i] - value_list[i-1] <= 0:\n",
    "            time = data[\"Time\"][i-1]\n",
    "            print(f\"The point is {time}\")\n",
    "            return int((i)/2)\n",
    "        \n",
    "        \n",
    "def remove_negative(position_list, plate_list):\n",
    "    target = plate_list[list(filter(lambda x: 'N' in x, plate_list))[0]]\n",
    "    x = position_list.copy()\n",
    "    target_ = target.copy()\n",
    "    \n",
    "    while len(target_) != 0 :\n",
    "        for i in x:\n",
    "            if i in target :\n",
    "                x.remove(i)\n",
    "                target_.remove(i)\n",
    "    return list(set(x))        \n",
    "\n",
    "\n",
    "def edit_data(data, removed_list, plate_list):\n",
    "    sample_list = list(plate_list.keys())\n",
    "    target = list(filter(lambda x: 'N' in x, list(plate_list.keys())))[0]\n",
    "    sample_list.remove(target)\n",
    "    data_edit = data[removed_list].copy()\n",
    "    \n",
    "    data_negative = np.array(data[plate_list[list(filter(lambda x: 'N' in x, plate_list))[0]]].mean(axis=1).tolist())\n",
    "    final_data = {}\n",
    "    \n",
    "    for i in data_edit.columns.tolist():\n",
    "        data_edit[i] = (data_edit[i]- data_negative)\n",
    "    \n",
    "    data_positive = data_edit[plate_list[list(filter(lambda x: 'P' in x, plate_list))[0]]].mean(axis=1).tolist()\n",
    "    \n",
    "    for n, i in enumerate(data_edit.columns.tolist()):\n",
    "        data_edit[i] = (data_edit[i]/data_positive)*100\n",
    "    \n",
    "    for i in sample_list:\n",
    "        final_data[i] = data_edit[plate_list[i]].mean(axis=1)\n",
    "    \n",
    "    return pd.DataFrame(final_data)\n",
    "\n",
    "\n",
    "def find_error_bar(x):\n",
    "    return (x.std(axis=0)/np.sqrt(len(x))).tolist()\n",
    "\n",
    "\n",
    "def Draw_error_bar(data_edit, i):\n",
    "    error_bar = find_error_bar(data_edit[data_edit.columns.tolist()])\n",
    "    \n",
    "    fig = go.Figure()\n",
    "    fig.add_trace(go.Bar(\n",
    "    x=data_edit.columns.tolist(), y=data_edit[data_edit.columns.tolist()].iloc[i],\n",
    "    error_y=dict(type='data', array=error_bar)\n",
    "    ))\n",
    "    fig.show()"
   ]
  },
  {
   "cell_type": "markdown",
   "id": "2a3fef1f",
   "metadata": {},
   "source": [
    "# Data preprocessing"
   ]
  },
  {
   "cell_type": "code",
   "execution_count": 4,
   "id": "2c983b13",
   "metadata": {
    "ExecuteTime": {
     "end_time": "2022-11-21T06:09:46.035547Z",
     "start_time": "2022-11-21T06:09:43.582553Z"
    }
   },
   "outputs": [
    {
     "name": "stdout",
     "output_type": "stream",
     "text": [
      "Good Data format!\n"
     ]
    }
   ],
   "source": [
    "data = pd.read_excel(\"example1.xlsx\", sheet_name=\"Sheet1\")\n",
    "df = pd.read_excel(\"lay_out.xlsx\")\n",
    "data = time_checker(data, \"Time\")\n",
    "position_list = get_position(plate_list)\n",
    "removed_list = remove_negative(position_list, plate_list)\n",
    "data_edit = edit_data(data, removed_list, plate_list)\n",
    "fig = make_all_data_plot(position_list, data)\n",
    "Time = list(data[\"Time\"].values)"
   ]
  },
  {
   "cell_type": "markdown",
   "id": "d0388524",
   "metadata": {},
   "source": [
    "# Show interactive plot"
   ]
  },
  {
   "cell_type": "markdown",
   "id": "539997c6",
   "metadata": {},
   "source": [
    "- Start cell and click the IP. <br>"
   ]
  },
  {
   "cell_type": "code",
   "execution_count": null,
   "id": "cad1e65d",
   "metadata": {
    "ExecuteTime": {
     "start_time": "2022-11-21T06:10:01.918Z"
    }
   },
   "outputs": [
    {
     "name": "stdout",
     "output_type": "stream",
     "text": [
      "Dash is running on http://127.0.0.1:8050/\n",
      "\n",
      " * Serving Flask app '__main__' (lazy loading)\n",
      " * Environment: production\n",
      "\u001b[31m   WARNING: This is a development server. Do not use it in a production deployment.\u001b[0m\n",
      "\u001b[2m   Use a production WSGI server instead.\u001b[0m\n",
      " * Debug mode: off\n"
     ]
    },
    {
     "name": "stderr",
     "output_type": "stream",
     "text": [
      " * Running on http://127.0.0.1:8050/ (Press CTRL+C to quit)\n"
     ]
    }
   ],
   "source": [
    "external_stylesheets = [\"https://codepen.io/chriddyp/pen/bWLwgP.css\"]\n",
    "\n",
    "app = dash.Dash(__name__, external_stylesheets=external_stylesheets)\n",
    "app.layout = html.Div(    \n",
    "    children=[\n",
    "    \n",
    "    html.H1(children='Lay out of well ID'),\n",
    "    html.Div(children='''\n",
    "        Let's see which sample which well ID.\n",
    "        '''),\n",
    "    dash_table.DataTable(\n",
    "        id='table',\n",
    "        columns=[{\"name\": i, \"id\": i, 'editable': (i == 'Index')} for i in df.columns],\n",
    "        data=df.to_dict('records'),\n",
    "        style_cell={'textAlign': 'center'},\n",
    "        style_header={\n",
    "        'backgroundColor': 'rgb(30, 30, 30)',\n",
    "        'color': 'white'\n",
    "    },\n",
    "    style_data_conditional=[{\n",
    "        'if': {'column_editable': True},\n",
    "        'backgroundColor': 'rgb(30, 30, 30)',\n",
    "        'color': 'white'\n",
    "    }]\n",
    "    ),\n",
    "        \n",
    "        \n",
    "    html.Br(),\n",
    "    html.Br(),\n",
    "        \n",
    "        \n",
    "    html.H1(\"Time Recommand\"),\n",
    "    html.Div([\n",
    "        \"Right down position : \",\n",
    "    dcc.Input(id='my-input', value='', type='text')\n",
    "    ]),\n",
    "    html.Br(),\n",
    "    html.Div(id='my-output'),\n",
    "        \n",
    "        \n",
    "    html.Br(),\n",
    "    html.H1(children='Time variance graph'),\n",
    "    html.Div(children='''\n",
    "        Graph according to the time of samples.\n",
    "    '''),\n",
    "    \n",
    "        \n",
    "    html.Br(),\n",
    "    dcc.Dropdown(\n",
    "            id='Sample_position',\n",
    "            options=([{'label': i, 'value': plate_list[i]} for i in list(plate_list.keys())] \n",
    "                     + [{'label' : 'Select all', 'value' : position_list}]),\n",
    "            value = 0\n",
    "    ),\n",
    "   \n",
    "    dcc.Graph(\n",
    "        id='line-plot',\n",
    "        figure=fig\n",
    "    ),\n",
    "    \n",
    "    \n",
    "    html.Br(),\n",
    "    html.H1(children='Error bar of samples'),        \n",
    "    html.Div(children='''\n",
    "                Compare the result of calculate.\n",
    "            '''),\n",
    "    dcc.Dropdown(\n",
    "        id='time-dropdown',\n",
    "        options=[{'label': i, 'value': n} for n, i in enumerate(Time)],\n",
    "        value = 0\n",
    "    ),\n",
    "    dcc.Graph(id='time-bar',\n",
    "        figure=fig)\n",
    "])\n",
    "\n",
    "\n",
    "@app.callback(\n",
    "    Output('time-bar', 'figure'),\n",
    "    Input('time-dropdown', 'value'))\n",
    "def Draw_error_bar(i):\n",
    "    error_bar = find_error_bar(data_edit[data_edit.columns.tolist()])\n",
    "    fig = go.Figure()\n",
    "    fig.add_trace(go.Bar(\n",
    "    x=data_edit.columns.tolist(), y=data_edit[data_edit.columns.tolist()].iloc[i],\n",
    "    error_y=dict(type='data', array=error_bar)\n",
    "    ))\n",
    "    return fig\n",
    "\n",
    "\n",
    "@app.callback(\n",
    "    Output('line-plot', 'figure'),\n",
    "    Input('Sample_position', 'value'))\n",
    "def make_line_plot(position_list):\n",
    "    import plotly.express as px\n",
    "    fig = px.line(data, x=\"Time\", y=position_list)\n",
    "    return fig\n",
    "\n",
    "\n",
    "@app.callback(\n",
    "    Output(component_id='my-output', component_property='children'),\n",
    "    Input(component_id='my-input', component_property='value'))\n",
    "def recommand_time(point):\n",
    "    value_list = data[point].values.tolist()\n",
    "    \n",
    "    for i in range(1, len(value_list)):\n",
    "        if value_list[i] - value_list[i-1] <= 0:\n",
    "            time = data[\"Time\"][int((i)/2)]\n",
    "            return f\"The recommanded Time is {time} at {point}\"    \n",
    "    return \"It keeps increasing!\"\n",
    "\n",
    "\n",
    "if __name__ == '__main__':\n",
    "    app.run_server(debug=False)"
   ]
  },
  {
   "cell_type": "code",
   "execution_count": null,
   "id": "092a0651",
   "metadata": {},
   "outputs": [],
   "source": []
  }
 ],
 "metadata": {
  "kernelspec": {
   "display_name": "Python 3 (ipykernel)",
   "language": "python",
   "name": "python3"
  },
  "language_info": {
   "codemirror_mode": {
    "name": "ipython",
    "version": 3
   },
   "file_extension": ".py",
   "mimetype": "text/x-python",
   "name": "python",
   "nbconvert_exporter": "python",
   "pygments_lexer": "ipython3",
   "version": "3.8.13"
  },
  "toc": {
   "base_numbering": 1,
   "nav_menu": {},
   "number_sections": true,
   "sideBar": true,
   "skip_h1_title": false,
   "title_cell": "Table of Contents",
   "title_sidebar": "Contents",
   "toc_cell": false,
   "toc_position": {},
   "toc_section_display": true,
   "toc_window_display": false
  },
  "varInspector": {
   "cols": {
    "lenName": 16,
    "lenType": 16,
    "lenVar": 40
   },
   "kernels_config": {
    "python": {
     "delete_cmd_postfix": "",
     "delete_cmd_prefix": "del ",
     "library": "var_list.py",
     "varRefreshCmd": "print(var_dic_list())"
    },
    "r": {
     "delete_cmd_postfix": ") ",
     "delete_cmd_prefix": "rm(",
     "library": "var_list.r",
     "varRefreshCmd": "cat(var_dic_list()) "
    }
   },
   "types_to_exclude": [
    "module",
    "function",
    "builtin_function_or_method",
    "instance",
    "_Feature"
   ],
   "window_display": false
  }
 },
 "nbformat": 4,
 "nbformat_minor": 5
}
